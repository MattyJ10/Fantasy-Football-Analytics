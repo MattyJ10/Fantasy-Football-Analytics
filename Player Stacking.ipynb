{
 "cells": [
  {
   "cell_type": "code",
   "execution_count": 1,
   "metadata": {},
   "outputs": [],
   "source": [
    "import pandas as pd\n",
    "import numpy as np\n",
    "import seaborn as sns\n",
    "from matplotlib import pyplot as plt"
   ]
  },
  {
   "cell_type": "code",
   "execution_count": 2,
   "metadata": {},
   "outputs": [],
   "source": [
    "df = pd.read_csv('2019-2.csv')\n",
    "\n",
    "df.drop(['Rk', '2PM', '2PP', 'FantPt', 'DKPt', 'FDPt',\n",
    "        'VBD', 'PosRank', 'OvRank', 'PPR', 'Fmb',\n",
    "        'GS', 'Age', 'Tgt', 'Y/A', 'Att', 'Att.1', 'Cmp', 'Y/R'], axis=1, inplace=True)\n",
    "\n",
    "df['Player'] = df['Player'].apply(lambda x: x.split('*')[0]).apply(lambda x: x.split('\\\\')[0])\n",
    "\n",
    "df.rename({\n",
    "    'TD': 'PassingTD',\n",
    "    'TD.1': 'RushingTD',\n",
    "    'TD.2': 'ReceivingTD',\n",
    "    'TD.3': 'TotalTD',\n",
    "    'Yds': 'PassingYDs',\n",
    "    'Yds.1': 'RushingYDs',\n",
    "    'Yds.2': 'ReceivingYDs'\n",
    "}, axis=1, inplace=True)\n",
    "\n",
    "df['FantasyPoints'] = (df['PassingYDs']*0.04 + df['PassingTD']*6 - df['Int']*2 + df['RushingYDs']*.1\n",
    "                      + df['RushingTD']*6 + df['ReceivingYDs']*.1 + df['ReceivingTD']*6 - df['FL']*2)\n",
    "\n",
    "df['FantasyPoints/GM'] = df['FantasyPoints']/df['G']\n",
    "\n",
    "# Keep only the columns within the [[ ]]\n",
    "df = df[['Tm', 'FantPos', 'FantasyPoints', 'FantasyPoints/GM']]\n",
    "\n",
    "# Remove players who played on two or more teams\n",
    "df = df[df['Tm'] != '2TM']\n",
    "df = df[df['Tm'] != '3TM']\n",
    "\n",
    "# Separate by position and add only RBs to the RB DF etc.\n",
    "rb_df = df[df['FantPos'] == 'RB']\n",
    "qb_df = df[df['FantPos'] == 'QB']\n",
    "wr_df = df[df['FantPos'] == 'WR']\n",
    "te_df = df[df['FantPos'] == 'TE']"
   ]
  },
  {
   "cell_type": "code",
   "execution_count": null,
   "metadata": {},
   "outputs": [],
   "source": []
  }
 ],
 "metadata": {
  "kernelspec": {
   "display_name": "Python 3",
   "language": "python",
   "name": "python3"
  },
  "language_info": {
   "codemirror_mode": {
    "name": "ipython",
    "version": 3
   },
   "file_extension": ".py",
   "mimetype": "text/x-python",
   "name": "python",
   "nbconvert_exporter": "python",
   "pygments_lexer": "ipython3",
   "version": "3.7.4"
  }
 },
 "nbformat": 4,
 "nbformat_minor": 2
}
